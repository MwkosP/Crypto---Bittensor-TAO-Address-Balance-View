{
  "nbformat": 4,
  "nbformat_minor": 0,
  "metadata": {
    "colab": {
      "provenance": []
    },
    "kernelspec": {
      "name": "python3",
      "display_name": "Python 3"
    },
    "language_info": {
      "name": "python"
    }
  },
  "cells": [
    {
      "cell_type": "code",
      "source": [
        "!pip install bittensor"
      ],
      "metadata": {
        "colab": {
          "base_uri": "https://localhost:8080/"
        },
        "id": "15awAkebQVUK",
        "outputId": "a07ce485-64fe-4732-cc45-26d492d71713"
      },
      "execution_count": 4,
      "outputs": [
        {
          "output_type": "stream",
          "name": "stdout",
          "text": [
            "Requirement already satisfied: bittensor in /usr/local/lib/python3.11/dist-packages (9.4.0)\n",
            "Requirement already satisfied: wheel in /usr/local/lib/python3.11/dist-packages (from bittensor) (0.45.1)\n",
            "Requirement already satisfied: setuptools~=70.0.0 in /usr/local/lib/python3.11/dist-packages (from bittensor) (70.0.0)\n",
            "Requirement already satisfied: aiohttp~=3.9 in /usr/local/lib/python3.11/dist-packages (from bittensor) (3.11.15)\n",
            "Requirement already satisfied: asyncstdlib~=3.13.0 in /usr/local/lib/python3.11/dist-packages (from bittensor) (3.13.1)\n",
            "Requirement already satisfied: colorama~=0.4.6 in /usr/local/lib/python3.11/dist-packages (from bittensor) (0.4.6)\n",
            "Requirement already satisfied: fastapi~=0.110.1 in /usr/local/lib/python3.11/dist-packages (from bittensor) (0.110.3)\n",
            "Requirement already satisfied: munch~=2.5.0 in /usr/local/lib/python3.11/dist-packages (from bittensor) (2.5.0)\n",
            "Requirement already satisfied: numpy~=2.0.1 in /usr/local/lib/python3.11/dist-packages (from bittensor) (2.0.2)\n",
            "Requirement already satisfied: msgpack-numpy-opentensor~=0.5.0 in /usr/local/lib/python3.11/dist-packages (from bittensor) (0.5.0)\n",
            "Requirement already satisfied: nest_asyncio==1.6.0 in /usr/local/lib/python3.11/dist-packages (from bittensor) (1.6.0)\n",
            "Requirement already satisfied: netaddr==1.3.0 in /usr/local/lib/python3.11/dist-packages (from bittensor) (1.3.0)\n",
            "Requirement already satisfied: packaging in /usr/local/lib/python3.11/dist-packages (from bittensor) (24.2)\n",
            "Requirement already satisfied: python-statemachine~=2.1 in /usr/local/lib/python3.11/dist-packages (from bittensor) (2.5.0)\n",
            "Requirement already satisfied: pycryptodome<4.0.0,>=3.18.0 in /usr/local/lib/python3.11/dist-packages (from bittensor) (3.22.0)\n",
            "Requirement already satisfied: pyyaml>=6.0 in /usr/local/lib/python3.11/dist-packages (from bittensor) (6.0.2)\n",
            "Requirement already satisfied: retry==0.9.2 in /usr/local/lib/python3.11/dist-packages (from bittensor) (0.9.2)\n",
            "Requirement already satisfied: requests<3.0,>=2.0.0 in /usr/local/lib/python3.11/dist-packages (from bittensor) (2.32.3)\n",
            "Requirement already satisfied: pydantic<3,>=2.3 in /usr/local/lib/python3.11/dist-packages (from bittensor) (2.11.3)\n",
            "Requirement already satisfied: scalecodec==1.2.11 in /usr/local/lib/python3.11/dist-packages (from bittensor) (1.2.11)\n",
            "Requirement already satisfied: uvicorn in /usr/local/lib/python3.11/dist-packages (from bittensor) (0.34.2)\n",
            "Requirement already satisfied: bittensor-commit-reveal>=0.4.0 in /usr/local/lib/python3.11/dist-packages (from bittensor) (0.4.0)\n",
            "Requirement already satisfied: bittensor-wallet>=3.0.8 in /usr/local/lib/python3.11/dist-packages (from bittensor) (3.0.8)\n",
            "Requirement already satisfied: async-substrate-interface>=1.1.0 in /usr/local/lib/python3.11/dist-packages (from bittensor) (1.1.0)\n",
            "Requirement already satisfied: decorator>=3.4.2 in /usr/local/lib/python3.11/dist-packages (from retry==0.9.2->bittensor) (4.4.2)\n",
            "Requirement already satisfied: py<2.0.0,>=1.4.26 in /usr/local/lib/python3.11/dist-packages (from retry==0.9.2->bittensor) (1.11.0)\n",
            "Requirement already satisfied: more-itertools in /usr/local/lib/python3.11/dist-packages (from scalecodec==1.2.11->bittensor) (10.6.0)\n",
            "Requirement already satisfied: base58>=2.0.1 in /usr/local/lib/python3.11/dist-packages (from scalecodec==1.2.11->bittensor) (2.1.1)\n",
            "Requirement already satisfied: aiohappyeyeballs>=2.3.0 in /usr/local/lib/python3.11/dist-packages (from aiohttp~=3.9->bittensor) (2.6.1)\n",
            "Requirement already satisfied: aiosignal>=1.1.2 in /usr/local/lib/python3.11/dist-packages (from aiohttp~=3.9->bittensor) (1.3.2)\n",
            "Requirement already satisfied: attrs>=17.3.0 in /usr/local/lib/python3.11/dist-packages (from aiohttp~=3.9->bittensor) (25.3.0)\n",
            "Requirement already satisfied: frozenlist>=1.1.1 in /usr/local/lib/python3.11/dist-packages (from aiohttp~=3.9->bittensor) (1.6.0)\n",
            "Requirement already satisfied: multidict<7.0,>=4.5 in /usr/local/lib/python3.11/dist-packages (from aiohttp~=3.9->bittensor) (6.4.3)\n",
            "Requirement already satisfied: propcache>=0.2.0 in /usr/local/lib/python3.11/dist-packages (from aiohttp~=3.9->bittensor) (0.3.1)\n",
            "Requirement already satisfied: yarl<2.0,>=1.17.0 in /usr/local/lib/python3.11/dist-packages (from aiohttp~=3.9->bittensor) (1.20.0)\n",
            "Requirement already satisfied: bt-decode==v0.6.0 in /usr/local/lib/python3.11/dist-packages (from async-substrate-interface>=1.1.0->bittensor) (0.6.0)\n",
            "Requirement already satisfied: websockets>=14.1 in /usr/local/lib/python3.11/dist-packages (from async-substrate-interface>=1.1.0->bittensor) (15.0.1)\n",
            "Requirement already satisfied: xxhash in /usr/local/lib/python3.11/dist-packages (from async-substrate-interface>=1.1.0->bittensor) (3.5.0)\n",
            "Requirement already satisfied: toml==0.10.0 in /usr/local/lib/python3.11/dist-packages (from bt-decode==v0.6.0->async-substrate-interface>=1.1.0->bittensor) (0.10.0)\n",
            "Requirement already satisfied: eth-utils<2.3.0 in /usr/local/lib/python3.11/dist-packages (from bittensor-wallet>=3.0.8->bittensor) (2.2.2)\n",
            "Requirement already satisfied: password-strength in /usr/local/lib/python3.11/dist-packages (from bittensor-wallet>=3.0.8->bittensor) (0.0.3.post2)\n",
            "Requirement already satisfied: cryptography~=43.0.1 in /usr/local/lib/python3.11/dist-packages (from bittensor-wallet>=3.0.8->bittensor) (43.0.3)\n",
            "Requirement already satisfied: py-bip39-bindings==0.1.11 in /usr/local/lib/python3.11/dist-packages (from bittensor-wallet>=3.0.8->bittensor) (0.1.11)\n",
            "Requirement already satisfied: starlette<0.38.0,>=0.37.2 in /usr/local/lib/python3.11/dist-packages (from fastapi~=0.110.1->bittensor) (0.37.2)\n",
            "Requirement already satisfied: typing-extensions>=4.8.0 in /usr/local/lib/python3.11/dist-packages (from fastapi~=0.110.1->bittensor) (4.13.2)\n",
            "Requirement already satisfied: msgpack>=0.5.2 in /usr/local/lib/python3.11/dist-packages (from msgpack-numpy-opentensor~=0.5.0->bittensor) (1.1.0)\n",
            "Requirement already satisfied: six in /usr/local/lib/python3.11/dist-packages (from munch~=2.5.0->bittensor) (1.17.0)\n",
            "Requirement already satisfied: annotated-types>=0.6.0 in /usr/local/lib/python3.11/dist-packages (from pydantic<3,>=2.3->bittensor) (0.7.0)\n",
            "Requirement already satisfied: pydantic-core==2.33.1 in /usr/local/lib/python3.11/dist-packages (from pydantic<3,>=2.3->bittensor) (2.33.1)\n",
            "Requirement already satisfied: typing-inspection>=0.4.0 in /usr/local/lib/python3.11/dist-packages (from pydantic<3,>=2.3->bittensor) (0.4.0)\n",
            "Requirement already satisfied: charset-normalizer<4,>=2 in /usr/local/lib/python3.11/dist-packages (from requests<3.0,>=2.0.0->bittensor) (3.4.1)\n",
            "Requirement already satisfied: idna<4,>=2.5 in /usr/local/lib/python3.11/dist-packages (from requests<3.0,>=2.0.0->bittensor) (3.10)\n",
            "Requirement already satisfied: urllib3<3,>=1.21.1 in /usr/local/lib/python3.11/dist-packages (from requests<3.0,>=2.0.0->bittensor) (2.3.0)\n",
            "Requirement already satisfied: certifi>=2017.4.17 in /usr/local/lib/python3.11/dist-packages (from requests<3.0,>=2.0.0->bittensor) (2025.1.31)\n",
            "Requirement already satisfied: click>=7.0 in /usr/local/lib/python3.11/dist-packages (from uvicorn->bittensor) (8.1.8)\n",
            "Requirement already satisfied: h11>=0.8 in /usr/local/lib/python3.11/dist-packages (from uvicorn->bittensor) (0.14.0)\n",
            "Requirement already satisfied: cffi>=1.12 in /usr/local/lib/python3.11/dist-packages (from cryptography~=43.0.1->bittensor-wallet>=3.0.8->bittensor) (1.17.1)\n",
            "Requirement already satisfied: eth-hash>=0.3.1 in /usr/local/lib/python3.11/dist-packages (from eth-utils<2.3.0->bittensor-wallet>=3.0.8->bittensor) (0.7.1)\n",
            "Requirement already satisfied: eth-typing>=3.0.0 in /usr/local/lib/python3.11/dist-packages (from eth-utils<2.3.0->bittensor-wallet>=3.0.8->bittensor) (5.2.1)\n",
            "Requirement already satisfied: cytoolz>=0.10.1 in /usr/local/lib/python3.11/dist-packages (from eth-utils<2.3.0->bittensor-wallet>=3.0.8->bittensor) (1.0.1)\n",
            "Requirement already satisfied: anyio<5,>=3.4.0 in /usr/local/lib/python3.11/dist-packages (from starlette<0.38.0,>=0.37.2->fastapi~=0.110.1->bittensor) (4.9.0)\n",
            "Requirement already satisfied: sniffio>=1.1 in /usr/local/lib/python3.11/dist-packages (from anyio<5,>=3.4.0->starlette<0.38.0,>=0.37.2->fastapi~=0.110.1->bittensor) (1.3.1)\n",
            "Requirement already satisfied: pycparser in /usr/local/lib/python3.11/dist-packages (from cffi>=1.12->cryptography~=43.0.1->bittensor-wallet>=3.0.8->bittensor) (2.22)\n",
            "Requirement already satisfied: toolz>=0.8.0 in /usr/local/lib/python3.11/dist-packages (from cytoolz>=0.10.1->eth-utils<2.3.0->bittensor-wallet>=3.0.8->bittensor) (0.12.1)\n"
          ]
        }
      ]
    },
    {
      "cell_type": "markdown",
      "source": [
        "Check Address Tao Balance."
      ],
      "metadata": {
        "id": "riyMkdW7XM9n"
      }
    },
    {
      "cell_type": "code",
      "source": [
        "import bittensor as bt\n",
        "\n",
        "try:\n",
        "    # Create config and set to mainnet\n",
        "    config = bt.subtensor.config()\n",
        "    config.subtensor.network = 'finney'  # Set to 'finney' for testnet\n",
        "\n",
        "    # Connect to subtensor\n",
        "    subtensor = bt.subtensor(config=config)\n",
        "\n",
        "    # Wallet address to check\n",
        "    address = '5G236ingZ7qfP9iL4HzYyBFEFC8oNj2bhdhdPUUQznCFfdvk'\n",
        "\n",
        "    # Get balance\n",
        "    balance = subtensor.get_balance(address=address)\n",
        "\n",
        "    # Convert rao to TAO\n",
        "    tao_balance = balance.rao / 1e9  # 1 TAO = 1 billion rao\n",
        "\n",
        "    # Print result\n",
        "    print(f\"Balance for {address}:\")\n",
        "\n",
        "    print(f\" - TAO     : {tao_balance:.6f} TAO\")#print(f\" - Raw rao: {balance.rao} rao\")\n",
        "\n",
        "except Exception as e:\n",
        "    print(f\"Error fetching balance: {e}\")\n"
      ],
      "metadata": {
        "colab": {
          "base_uri": "https://localhost:8080/"
        },
        "id": "qvEPHY3vI8s9",
        "outputId": "bd1cb834-8c47-49e6-be5f-a2b5ced799a6"
      },
      "execution_count": 43,
      "outputs": [
        {
          "output_type": "stream",
          "name": "stdout",
          "text": [
            "Balance for 5G236ingZ7qfP9iL4HzYyBFEFC8oNj2bhdhdPUUQznCFfdvk:\n",
            " - TAO     : 66.498118 TAO\n"
          ]
        }
      ]
    }
  ]
}